{
 "cells": [
  {
   "cell_type": "markdown",
   "id": "dd60b71e-24d5-4705-9adc-9aff204318ff",
   "metadata": {},
   "source": [
    "<br/>Miniature Detection<br/>Predicting and checking YOLO results\n",
    "===\n",
    "\n",
    "These scripts can be used to detect, check and correct, if necessary, data from YOLOv8 detections. \n",
    "\n",
    "**Warning**\n",
    "\n",
    "The following scripts have been created to process data from manifest IIIF following the download protocol set up in the '0_Download_processing.ipynb' notebook.\n",
    "These scripts are not designed for local processing of data or data for which no URL is available."
   ]
  },
  {
   "cell_type": "markdown",
   "id": "087b4d5e-274f-44fe-8030-dd5300e3dec3",
   "metadata": {},
   "source": [
    "[![Open In Colab](https://colab.research.google.com/assets/colab-badge.svg)](https://colab.research.google.com/github/oriflamms/LivreQuanti2025/blob/main/DataModelling/Predicting_with_YOLO.ipynb)"
   ]
  },
  {
   "cell_type": "markdown",
   "id": "ed79e35f-83cd-494a-b89d-a8258af57bb3",
   "metadata": {
    "editable": true,
    "slideshow": {
     "slide_type": ""
    },
    "tags": []
   },
   "source": [
    "# Environment"
   ]
  },
  {
   "cell_type": "markdown",
   "id": "4aa1f30d-2d4d-499e-87bb-ec45e248d24b",
   "metadata": {
    "tags": []
   },
   "source": [
    "## Install"
   ]
  },
  {
   "cell_type": "code",
   "execution_count": null,
   "id": "c4d2b8b3-ce93-4ae4-b21c-cea56be70d30",
   "metadata": {
    "tags": []
   },
   "outputs": [],
   "source": [
    "!pip install ultralytics"
   ]
  },
  {
   "cell_type": "markdown",
   "id": "aac74d47-e544-4fa8-8799-171337e0caaf",
   "metadata": {
    "tags": []
   },
   "source": [
    "## Import"
   ]
  },
  {
   "cell_type": "code",
   "execution_count": null,
   "id": "71217858-2e1c-43fe-9486-3b8eaa4b3fbf",
   "metadata": {
    "tags": []
   },
   "outputs": [],
   "source": [
    "%%time\n",
    "\n",
    "import os, cv2, json, subprocess, tarfile, time, unicodedata\n",
    "import uuid\n",
    "from PIL import Image\n",
    "from ultralytics import YOLO\n",
    "from datetime import datetime\n",
    "import pandas as pd"
   ]
  },
  {
   "cell_type": "markdown",
   "id": "eb2c62ae-5c96-48f4-9493-a9aef97e3a35",
   "metadata": {
    "tags": []
   },
   "source": [
    "## Variables"
   ]
  },
  {
   "cell_type": "code",
   "execution_count": null,
   "id": "13d434c4-7f07-470e-ac7b-17209451fc0b",
   "metadata": {
    "tags": []
   },
   "outputs": [],
   "source": [
    "print(os.getcwd())"
   ]
  },
  {
   "cell_type": "markdown",
   "id": "cbf959a6-e192-4a3f-99e4-dcf4566dad2d",
   "metadata": {
    "tags": []
   },
   "source": [
    "# Functions"
   ]
  },
  {
   "cell_type": "markdown",
   "id": "f0c44991-26ff-432b-9172-b5dab6a91bcf",
   "metadata": {
    "tags": []
   },
   "source": [
    "## Helper functions"
   ]
  },
  {
   "cell_type": "markdown",
   "id": "82b85d76-5746-43d4-b745-e817d1ac9263",
   "metadata": {},
   "source": [
    "Functions to handle the labels of annotations and cope if the otherwise required \"labels.txt\" file is missing"
   ]
  },
  {
   "cell_type": "code",
   "execution_count": null,
   "id": "93c5a11a-c576-4f6c-9bfb-5fb5094dc217",
   "metadata": {
    "tags": []
   },
   "outputs": [],
   "source": [
    "def normalize_filename(filename):\n",
    "    \"\"\"\n",
    "    Normalize the filename to remove special characters and ensure consistency.\n",
    "    \"\"\"\n",
    "    return unicodedata.normalize('NFKD', filename).encode('ASCII', 'ignore').decode('ASCII')\n",
    "\n",
    "def get_labels(labels_file):\n",
    "    '''\n",
    "    This function checks if the file 'labels.txt' exists. \n",
    "    If not, it generates a .txt file with generic names for each existing class \"class1\" to \"classN\". \n",
    "    The users can then change the names later.\n",
    "    Beware: if defined classes have not been used in the training dataset, they will not appear in this labels.txt file.\n",
    "    '''\n",
    "    \n",
    "    labels_dict = {}\n",
    "\n",
    "    if not os.path.exists(labels_file):\n",
    "        print(f\"{labels_file} does not exist. Generating generic class names.\")\n",
    "        # Assume the number of classes is known, here it's set to 10 as an example.\n",
    "        num_classes = 10\n",
    "        with open(labels_file, 'w') as f:\n",
    "            for i in range(1, num_classes + 1):\n",
    "                f.write(f\"'class{i}': 'class{i}'\\n\")\n",
    "        \n",
    "        # Populate labels_dict with generic class names\n",
    "        for i in range(1, num_classes + 1):\n",
    "            labels_dict[f'class{i}'] = f'class{i}'\n",
    "    \n",
    "    else:\n",
    "        # Read the existing labels file and populate the dictionary\n",
    "        with open(labels_file, 'r') as labels:\n",
    "            for line in labels:\n",
    "                key, value = line.strip().split(': ')\n",
    "                key = key.strip(\"'\")\n",
    "                value = value.strip(\"',\\n\")\n",
    "                labels_dict[key] = value\n",
    "    \n",
    "    return labels_dict\n",
    "\n",
    "\n",
    "def get_class_name(class_id, labels):\n",
    "    \n",
    "    \"\"\"\n",
    "    This function returns the class name from the class ID. If the class key is not specified, the function returns \"class unknown\".\n",
    "    The function will be used in the 'yolo_to_csv' function.\n",
    "    \n",
    "    The 'class_id' parameter is the ID of the class that will return the name of the class. will be automatically filled in 'yolo_to_csv function'.\n",
    "    \"\"\"\n",
    "    labels = labels\n",
    "    return labels.get(str(class_id), 'unknown-class')\n",
    "\n",
    "def get_class_code(class_name, labels):\n",
    "    \n",
    "    \"\"\"\n",
    "    This function returns  the the ID (key number) from the class name. If the ID key is not specified,\n",
    "    the function returns \"class unknown\".\n",
    "    \n",
    "    The 'class_id' parameter is  of the class name that will return the ID of the class.\n",
    "    The parameter will be automatically filled in 'generate_corrected_files' with the results \n",
    "    data from Label Studio's corrected csv file.\n",
    "    \"\"\"\n",
    "\n",
    "    labels = {str([value]): key for key, value in labels.items()}\n",
    "    return labels.get(str(class_name), 'unknown-class')"
   ]
  },
  {
   "cell_type": "markdown",
   "id": "b86c19b9-dfb1-4830-83d8-9e70e7da269f",
   "metadata": {},
   "source": [
    "Functions to handle the coordinates"
   ]
  },
  {
   "cell_type": "code",
   "execution_count": null,
   "id": "d28a0139-d174-49ce-b67a-8871acb0289c",
   "metadata": {
    "tags": []
   },
   "outputs": [],
   "source": [
    "\n",
    "def from_relative_coordinates_to_absolute(x_center, y_center, width, height, img_width, img_height):\n",
    "    \"\"\"\n",
    "    The function will be used in the 'yolo_to_csv' function to transform the relative coordinates of the \n",
    "    YOLO bounding box detection into absolute coordinates.\n",
    "    The absolute coordinates will be used to create the URL of the bounding boxes of the detected objects.\n",
    "    \n",
    "    The 'x_center' parameter is the relative x coordinate of the center of the bounding box.\n",
    "    The 'y_center' parameter is the relative y coordinate of the center of the bounding box.\n",
    "    The 'width' parameter is the relative width of the bounding box.\n",
    "    The 'height' parameter is the relative height of the bounding box.\n",
    "    The 'img_width' parameter is the width of the downloaded image.\n",
    "    The'img_height' parameter is the height of the downloaded image.\n",
    "    \n",
    "    All the parameters will be automatically filled in 'yolo_to_csv function' by the results data from the YOLO .txt files.\n",
    "    \"\"\"\n",
    "    \n",
    "    abs_x_center = x_center * img_width\n",
    "    abs_y_center = y_center * img_height\n",
    "    abs_width = width * img_width\n",
    "    abs_height = height * img_height\n",
    "\n",
    "    upper_left_x = abs_x_center - (abs_width / 2)\n",
    "    upper_left_y = abs_y_center - (abs_height / 2)\n",
    "\n",
    "    absolute_coordinates = int(upper_left_x), int(upper_left_y), int(abs_width), int(abs_height)\n",
    "    \n",
    "    return absolute_coordinates\n"
   ]
  },
  {
   "cell_type": "markdown",
   "id": "d1610183-5646-4c28-b79a-793a4c1a4ecd",
   "metadata": {},
   "source": [
    "# Data and model parameters"
   ]
  },
  {
   "cell_type": "markdown",
   "id": "4054556f-14e4-426b-ab68-593050611e0a",
   "metadata": {
    "tags": []
   },
   "source": [
    "## Image data: choose your group!"
   ]
  },
  {
   "cell_type": "code",
   "execution_count": null,
   "id": "f886a85d-f98a-4d2e-82ea-e52514fa8ef4",
   "metadata": {
    "tags": []
   },
   "outputs": [],
   "source": [
    "while True:\n",
    "    try:\n",
    "        group = int(input(\"Please enter an integer from 1 to 7: \"))\n",
    "        if 1 <= group <= 7:\n",
    "            break\n",
    "        else:\n",
    "            print(\"The number must be between 1 and 7. Please try again.\")\n",
    "    except ValueError:\n",
    "        print(\"That's not an integer. Please try again.\")\n",
    "\n",
    "if group == 1: \n",
    "    mss = [\"XII F 42\", \"IV D 5\", \"I E 38\"]   # Group 1\n",
    "    img_tar_url = 'https://box.hu-berlin.de/f/b22805b3750a4842b09d/?dl=1'\n",
    "elif group == 2:\n",
    "    mss = [\"I E 16\", \"XII E 16\", \"Osek 70\"]  # Group 2\n",
    "    img_tar_url = 'https://box.hu-berlin.de/f/f9c8c14ca0154d96a153/?dl=1'\n",
    "elif group == 3:\n",
    "    mss = [\"I E 48\", \"X B 19\", \"I G 40\"]    # Group 3\n",
    "    img_tar_url = 'https://box.hu-berlin.de/f/c96314c8f7ce47e3a566/?dl=1'\n",
    "elif group == 4:\n",
    "    mss = [\"I B 26\", \"I F 29\", \"I H 7\"]      # Group 4\n",
    "    img_tar_url = 'https://box.hu-berlin.de/f/235c7660453242b9998b/?dl=1'\n",
    "elif group == 5:\n",
    "    mss = [\"III F 15\", \"XI C 8\", \"VII C 8\"]  # Group 5\n",
    "    img_tar_url = 'https://box.hu-berlin.de/f/7f734de598ea49189afc/?dl=1'\n",
    "elif group == 6:\n",
    "    mss = [\"I A 55\", \"I E 32\", \"VI F 12a\"]   # Group 6\n",
    "    img_tar_url = 'https://box.hu-berlin.de/f/4143ddfc38294e00948d/?dl=1'\n",
    "elif group == 7:\n",
    "    mss = [\"VIII E 7\", \"XIV A 15\", \"I F 35\"]  # Group 7\n",
    "    img_tar_url = 'https://box.hu-berlin.de/f/16200520b04f4cafaa7c/?dl=1'\n",
    "\n",
    "img_data_url = 'https://box.hu-berlin.de/f/62771751837a46d7a2c7/?dl=1'    \n",
    "    \n",
    "print(f\"You entered: {group}. You will work with the following manuscripts: {mss}\")\n"
   ]
  },
  {
   "cell_type": "markdown",
   "id": "2351ab51-bb4d-40a1-9751-3ea597af3f5c",
   "metadata": {
    "tags": []
   },
   "source": [
    "## Retrieve the image data"
   ]
  },
  {
   "cell_type": "code",
   "execution_count": null,
   "id": "66b66a0a-69d6-41a9-bdcc-96b7717fbb7c",
   "metadata": {
    "tags": []
   },
   "outputs": [],
   "source": [
    "%%time\n",
    "\n",
    "img_dir = \"./mss_img/\"\n",
    "\n",
    "# Create the /data/ directory if it doesn't exist\n",
    "os.makedirs(img_dir, exist_ok=True)\n",
    "\n",
    "# Step 1: Download the tar.gz file using wget\n",
    "tar_file_path = os.path.join(img_dir, f\"mss_img_group{group}.tar.gz\")\n",
    "img_data_file_path = os.path.join(img_dir, f\"mss_img_image_data.csv\")\n",
    "\n",
    "\n",
    "# Download the file using wget\n",
    "subprocess.run([\"wget\", \"-O\", tar_file_path, img_tar_url], check=True)\n",
    "subprocess.run([\"wget\", \"-O\", img_data_file_path, img_data_url], check=True)\n",
    "\n",
    "# Step 2: Extract the tar.gz file\n",
    "with tarfile.open(tar_file_path, \"r:gz\") as tar:\n",
    "    tar.extractall(path=img_dir)\n",
    "\n",
    "\n",
    "print(\"Download and extraction completed successfully.\")\n"
   ]
  },
  {
   "cell_type": "markdown",
   "id": "14c94892-154e-4706-9b1a-075c8e781a46",
   "metadata": {
    "tags": []
   },
   "source": [
    "## Retrieve the miniature detection model"
   ]
  },
  {
   "cell_type": "code",
   "execution_count": null,
   "id": "6bdd077d-5f58-46d4-9f9e-7ccab1df9386",
   "metadata": {
    "tags": []
   },
   "outputs": [],
   "source": [
    "%%time\n",
    "model_url = 'https://box.hu-berlin.de/f/277985af79314c79963e/?dl=1'\n",
    "model_dir = \"./model/\"\n",
    "model_name = \"HORAE_Images_Folio_Miniatures_20240526_x_i640_e120_b8_w24.pt\"\n",
    "\n",
    "os.makedirs(model_dir, exist_ok=True)\n",
    "model_weights_file_path = os.path.join(model_dir, model_name)\n"
   ]
  },
  {
   "cell_type": "code",
   "execution_count": null,
   "id": "d08c0390-f1e1-45b3-93b0-41bb666eacf5",
   "metadata": {},
   "outputs": [],
   "source": [
    "\n",
    "# Download the file using wget\n",
    "subprocess.run([\"wget\", \"-O\", model_weights_file_path, model_url], check=True)"
   ]
  },
  {
   "cell_type": "markdown",
   "id": "74c9b5c8-76be-4430-8f6b-929ddada3715",
   "metadata": {},
   "source": [
    "# Predicting with YOLO"
   ]
  },
  {
   "cell_type": "markdown",
   "id": "264d08f3-264d-489c-8c01-f3d938374297",
   "metadata": {
    "tags": []
   },
   "source": [
    "## Define corpus to be processed"
   ]
  },
  {
   "cell_type": "markdown",
   "id": "cd4d95cb-0767-44ff-87b9-fb96441d2e03",
   "metadata": {
    "tags": []
   },
   "source": [
    "* Variables to be changed\n",
    "\n",
    "```\n",
    "dataset_path = 'ABSPATHTOTHEFOLDER'  # (to be changed, asbolute path to a folder with images only, without annotations.)\n",
    "yolo_model_folder = 'ABSPATHTOTHEMODELFOLDER' \n",
    "corrected_predictions_folder_to_be_excluded = ''\n",
    "\n",
    "```\n",
    "In other implementations, to be changed and adapted, using asbolute paths to the folder with the model, typically ```/home/jovyan/work/runs/train/{model_name}```. The following code will use the weights at the path ```{model_name}/weights/best.pt```\n",
    "\n",
    "Here, relative paths corresponding to the data and model that have just been retrieved.\n"
   ]
  },
  {
   "cell_type": "code",
   "execution_count": null,
   "id": "ec563d08-f7be-4fa8-91a3-2748ffc7e1ea",
   "metadata": {
    "tags": []
   },
   "outputs": [],
   "source": [
    "dataset_path ='./mss_img' # to be changed, absolute or relative path to a folder with images only, without annotations.\n",
    "yolo_model_folder = f'./model'\n",
    "yolo_model_name = model_name\n",
    "# yolo_model_folder = '/home/jovyan/work/runs/train/Miniatures_new_classes_20230916_l_i640_e100_b8_w24' # to be changed, asbolute path to the folder with the training data\n",
    "\n"
   ]
  },
  {
   "cell_type": "markdown",
   "id": "dfb0a5cc-29a5-4e3c-ad30-a386e28c01d1",
   "metadata": {
    "tags": []
   },
   "source": [
    "## Prediction script"
   ]
  },
  {
   "cell_type": "markdown",
   "id": "352873fe-adcb-4647-ad11-da6f6c9d7ba3",
   "metadata": {},
   "source": [
    "Source : \n",
    "\n",
    "\n",
    "Documentation : https://github.com/ultralytics/ultralytics/issues/2143\n"
   ]
  },
  {
   "cell_type": "code",
   "execution_count": null,
   "id": "9aa7b33f-1389-4a6c-96a9-c08ecad33ca3",
   "metadata": {
    "tags": []
   },
   "outputs": [],
   "source": [
    "def process_images_with_yolo(yolo_model_folder, dataset_path):\n",
    "    \"\"\"\n",
    "    Function to process all image files in a folder and its subfolders recursively\n",
    "    \"\"\"\n",
    "    \n",
    "    # print(type(corr_files))\n",
    "    \n",
    "    for root, dirs, files in os.walk(dataset_path):\n",
    "        \n",
    "        # Exclude hidden folders (i.e folders whose names start with \".\")\n",
    "        dirs[:] = [d for d in dirs if not d.startswith('.')]\n",
    "        \n",
    "        i=0\n",
    "        l=len(files)\n",
    "        \n",
    "        files.sort()\n",
    "        \n",
    "        for filename in files: \n",
    "            if filename.lower().endswith(('.jpg', '.png')):\n",
    "                image_path = os.path.join(root, filename)\n",
    "                process_single_image_with_yolo(yolo_model_folder, dataset_path, image_path)\n",
    "                print(f'''{i}/{l}, {dirs} {image_path}''')\n",
    "            else:\n",
    "                print('Excluded : ', filename, 'has been excluded')\n",
    "            i+=1\n",
    "\n",
    "def process_single_image_with_yolo(yolo_model_folder, dataset_path, image_path): #suppr time_sleep\n",
    "    \"\"\"\n",
    "    This function makes predictions using YOLO for the various files returned thanks to predict_on_dataset.\n",
    "    \"\"\"\n",
    "    yolo_model_path = os.path.join(yolo_model_folder, model_name)\n",
    "    yolo_model = YOLO(yolo_model_path)\n",
    "    \n",
    "    output_directory = os.path.join(\n",
    "        os.path.dirname(yolo_model_folder), \n",
    "        'predict', \n",
    "        os.path.dirname(os.path.relpath(image_path, dataset_path)),\n",
    "        'labels'        \n",
    "    )\n",
    "    print(output_directory)\n",
    "    os.makedirs(output_directory, exist_ok=True)\n",
    "    \n",
    "    image = cv2.imread(image_path)\n",
    "\n",
    "    # Process the image using YOLO\n",
    "    results = yolo_model.predict(source=image,\n",
    "                       imgsz=640,\n",
    "                       # name=os.path.basename(output_directory), # os.path.basename(output_directory), # Use the project folder as the name of the project\n",
    "                       save_txt=False,\n",
    "                       save_conf=False,\n",
    "                       # project=output_directory\n",
    "                      )\n",
    "    \n",
    "    boxes = results[0].boxes\n",
    "    \n",
    "    if not boxes:\n",
    "            print(f\"No detections found in {os.path.basename(image_path)}\")\n",
    "            return\n",
    "    \n",
    "    # Save the labels in the /labels/ folder\n",
    "    label_filename = os.path.splitext(os.path.basename(image_path))[0] + '.txt'\n",
    "    label_path = os.path.join(output_directory, label_filename)\n",
    "    \n",
    "    with open(label_path, 'w') as label_file:\n",
    "        for box in boxes:\n",
    "            xywh = \" \".join([f\"{value:.4f}\" for value in box.xywhn.cpu().squeeze().tolist()])\n",
    "            label_data = f'''{box.cls.cpu().item()} {xywh} {box.conf.cpu().item()}\\n'''\n",
    "            label_file.write(label_data)\n",
    "        \n",
    "        \n"
   ]
  },
  {
   "cell_type": "markdown",
   "id": "da147bf0-dc68-468e-b532-490c5681307e",
   "metadata": {
    "tags": []
   },
   "source": [
    "## <u>/!\\ Launch Yolo"
   ]
  },
  {
   "cell_type": "code",
   "execution_count": null,
   "id": "cfd40277-6cb7-4408-9c10-d9ee9ca24a3d",
   "metadata": {
    "tags": []
   },
   "outputs": [],
   "source": [
    "%%time\n",
    "\n",
    "process_images_with_yolo(yolo_model_folder, dataset_path)"
   ]
  },
  {
   "cell_type": "markdown",
   "id": "52a82730-3768-4f83-aaa5-f6189a9bbbaf",
   "metadata": {},
   "source": [
    "# Visualize results: generate IIIF files for IIIF corpora (csv, html)"
   ]
  },
  {
   "cell_type": "markdown",
   "id": "58b9b25b-7434-4cf7-9551-e5f80a5faa90",
   "metadata": {
    "tags": []
   },
   "source": [
    "## Generate overview of results (CSV files)"
   ]
  },
  {
   "cell_type": "code",
   "execution_count": null,
   "id": "95ea81c6-1ca6-4c7d-bf83-a2f7653823b0",
   "metadata": {
    "tags": []
   },
   "outputs": [],
   "source": [
    "def yolo_to_csv(dataset_path, yolo_model_folder):\n",
    "    \"\"\"\n",
    "    This function generates one or several CSV files: \n",
    "    - one for the entire corpus if all images in the same folder,\n",
    "    - one for each manuscript, if there are several folders within the corpus, and one for the entire corpus\n",
    "    It also retrieves the information on the images based on the CSV _image_data.csv file that was generated when downloading the images from IIIF manifests\n",
    "    \"\"\"\n",
    "    for root, dirs, files in os.walk(dataset_path):\n",
    "        dirs[:] = [d for d in dirs if not d.startswith('.')]  # Ignore folders starting with '.'\n",
    "        \n",
    "        if dirs == []:\n",
    "            labels_folder = os.path.join(\n",
    "                os.path.dirname(os.path.dirname(yolo_model_folder)),\n",
    "                'predict',\n",
    "                os.path.basename(dataset_path),\n",
    "                'labels')\n",
    "\n",
    "        else:\n",
    "            for dir in dirs:\n",
    "\n",
    "                # (1) Retrieve informations on images\n",
    "                csv_file = [file for file in os.listdir(os.path.join(root, dir)) if file.lower().endswith('_image_data.csv')]\n",
    "                print(csv_file)\n",
    "                images_data = pd.read_csv(os.path.join(root, dir, csv_file[0]), sep=',')\n",
    "                \n",
    "\n",
    "                # (2) Retrieve YOLO annotations at manuscript level: Search for annotation files (.txt files) in the labels folder\n",
    "                \n",
    "                labels_folder = os.path.join(\n",
    "                    os.path.dirname(yolo_model_folder), \n",
    "                    'predict', \n",
    "                    os.path.basename(dir),\n",
    "                    'labels')\n",
    "\n",
    "                annotation_files = [file for file in os.listdir(labels_folder) if file.endswith('.txt')]\n",
    "                print(f\"\"\"Labels in : {labels_folder}. There are {len(annotation_files)} annotations\"\"\")\n",
    "\n",
    "                # Check for annotations\n",
    "                if len(annotation_files) == 0:\n",
    "                    print(f'No detection on the data set {labels_folder}.')\n",
    "\n",
    "                else:\n",
    "                    results_folder = os.path.join(labels_folder.replace('labels', 'results'))\n",
    "                    os.makedirs(results_folder, exist_ok=True)\n",
    "\n",
    "\n",
    "                # (3) Compare infos on image files and YOLO annotations files with images and create a CSV overview file. \n",
    "                # The following code takes the image list and look for annotations rather than taking a YOLO annotation file and looking up in the pandas dataframe \n",
    "\n",
    "                rows = []\n",
    "\n",
    "                for _, row in images_data.iterrows():\n",
    "                    image_path = row[\"imageFileName\"]\n",
    "                    image_width = row[\"imageWidthAsDownloaded\"]\n",
    "                    image_height = row[\"imageHeightAsDownloaded\"]\n",
    "                    image_url = row['urlImage']\n",
    "\n",
    "                    # Check whether the image corresponds to an annotation (with standardised names to ensure consistency)\n",
    "                    matching_annotations = [annotation_file for annotation_file in annotation_files if normalize_filename(os.path.basename(image_path)) == normalize_filename(os.path.basename(annotation_file)).replace('txt', 'jpg')]\n",
    "\n",
    "                    for matching_annotation in matching_annotations:\n",
    "                        with open(os.path.join(labels_folder, matching_annotation), 'r') as f:\n",
    "                            for line in f.readlines():\n",
    "                                class_id, x_center, y_center, width, height, confidence = map(float, line.split())\n",
    "                                x, y, abs_width, abs_height = from_relative_coordinates_to_absolute(x_center, y_center, width, height, image_width, image_height)\n",
    "\n",
    "                                # Create a line of data for the DataFrame\n",
    "                                rows.append({\n",
    "                                    'Image_Path': image_path,\n",
    "                                    'Image_Width': image_width,\n",
    "                                    'Image_Height': image_height,\n",
    "                                    'YOLO_Results_File': os.path.join(labels_folder, matching_annotation),\n",
    "                                    'Class_Id': int(class_id),\n",
    "                                    'Class_Name': get_class_name(int(class_id), get_labels(os.path.join(yolo_model_folder, 'labels.txt'))),\n",
    "                                    'Detected_coordinates': f'{x_center} {y_center} {width} {height}',\n",
    "                                    'Absolute_coordinates': f\"{x} {y} {abs_width} {abs_height}\",\n",
    "                                    'Confidence': confidence,\n",
    "                                    'Url_Detection': image_url.replace(\"full\", f\"{x},{y},{abs_width},{abs_height}\", 1),\n",
    "                                    'Url_Image': image_url\n",
    "                                })\n",
    "\n",
    "                # Create a Pandas DataFrame from the data and save the output CSV file\n",
    "                if len(rows) == 0:\n",
    "                    print(f\"No correspondence found.\")\n",
    "                else:\n",
    "                    df = pd.DataFrame(rows)\n",
    "                    df_sorted = df.sort_values('Image_Path')\n",
    "\n",
    "                    if dirs == []:\n",
    "                        df_sorted.to_csv(os.path.join(results_folder, os.path.basename(dataset_path) + '.csv'), index=False)\n",
    "                        print(f\"The file {os.path.join(results_folder, os.path.basename(dataset_path) + '.csv')} has been created\")\n",
    "                    else:\n",
    "                        df_sorted.to_csv(os.path.join(results_folder, os.path.basename(dir) + '.csv'), index=False)\n",
    "                        print(f\"The file {os.path.join(results_folder, os.path.basename(dir) + '.csv')} has been created\")\n",
    "            \n",
    "            \n",
    "            # (5) Create an overview CSV file with all predicted results\n",
    "            results_folder = os.path.join(\n",
    "                    os.path.dirname(yolo_model_folder), \n",
    "                    'predict'\n",
    "            )\n",
    "            \n",
    "            csv_files = []\n",
    "\n",
    "            # Parcourir les dossiers et sous-dossiers\n",
    "            for root, dirs, files in os.walk(results_folder):\n",
    "                # Vérifier si le dossier courant est un dossier \"results\"\n",
    "                if os.path.basename(root) == \"results\":\n",
    "                    # Récupérer tous les fichiers CSV dans le dossier \"results\"\n",
    "                    csv_files.extend([os.path.join(root, file) for file in files if file.endswith('.csv')])\n",
    "\n",
    "            if not csv_files:\n",
    "                print(\"Aucun fichier CSV trouvé dans les dossiers 'results'.\")\n",
    "                return\n",
    "\n",
    "            # Concaténer les fichiers CSV\n",
    "            dfs = []\n",
    "            for csv_file in sorted(csv_files):  # Triez les fichiers CSV par ordre alphabétique\n",
    "                df = pd.read_csv(csv_file)\n",
    "                dfs.append(df)\n",
    "\n",
    "            concatenated_df = pd.concat(dfs, ignore_index=True)\n",
    "\n",
    "            # Écrire le DataFrame concaténé dans un nouveau fichier CSV\n",
    "            concatenated_csv_path = os.path.join(results_folder, 'results', f\"{os.path.basename(dataset_path)}.csv\")\n",
    "            os.makedirs(os.path.join(results_folder, 'results'), exist_ok=True)\n",
    "            concatenated_df.to_csv(concatenated_csv_path, sep=';', index=False)\n",
    "\n",
    "            print(f\"CSV files in 'results' folders were successfully concatenated to '{concatenated_csv_path}'.\")\n",
    "\n",
    "        "
   ]
  },
  {
   "cell_type": "code",
   "execution_count": null,
   "id": "6ef39468-89cc-4371-8896-a0a903fd93df",
   "metadata": {},
   "outputs": [],
   "source": [
    "%%time\n",
    "yolo_to_csv(dataset_path, yolo_model_folder)\n",
    "# yolo_to_csv_booksinminiatures(dataset_path, yolo_model_folder) #for results only for images with predicted annotations + with coordinates on the second grade (annotation > miniature > image)"
   ]
  },
  {
   "cell_type": "markdown",
   "id": "865b9dca-512b-486f-b444-13d0b4fbc1d7",
   "metadata": {
    "tags": []
   },
   "source": [
    "## Generate overview of results (html file)"
   ]
  },
  {
   "cell_type": "code",
   "execution_count": null,
   "id": "4c88dd08-1937-4ea9-a9aa-56a0c13cf341",
   "metadata": {
    "tags": []
   },
   "outputs": [],
   "source": [
    "def generate_html_with_and_without_mouseover(dataset_path, model_folder, sort_by=None):\n",
    "    base_path = os.path.dirname(os.path.commonprefix([dataset_path, model_folder]))\n",
    "    dataset_name = os.path.basename(dataset_path)\n",
    "    results_path = os.path.join(base_path, 'predict')\n",
    "\n",
    "    print(results_path)\n",
    "    csv_result = os.path.join(results_path, 'results', dataset_name + '.csv')\n",
    "\n",
    "    html_content = \"\"\"\n",
    "    <!DOCTYPE html>\n",
    "    <html>\n",
    "    <head>\n",
    "      <title>\"\"\" + f\"{dataset_name} (Yolo v8 Predictions with model {model_name}\" + \"\"\"</title>\n",
    "      <style>\n",
    "        body {\n",
    "          display: flex;\n",
    "          flex-wrap: wrap;\n",
    "        }\n",
    "\n",
    "        img {\n",
    "          max-height: 320px;\n",
    "          flex: 0 0 auto;\n",
    "          margin: 10px;\n",
    "        }\n",
    "      </style>\n",
    "    </head>\n",
    "    <body>\n",
    "      <h1>\"\"\" + f\"{dataset_name} <br/> (Yolo v8 Predictions with model {model_name}\" + \"\"\"</h1>\n",
    "\n",
    "      <div id=\"image-container\"></div>\n",
    "\n",
    "      <script>\n",
    "        var imageUrls = [{{image_urls}}];\n",
    "        var imageInfos = {{image_infos}};\n",
    "        var fullImageUrls = [{{full_image_urls}}];\n",
    "\n",
    "        var imageContainer = document.getElementById(\"image-container\");\n",
    "        for (var i = 0; i < imageUrls.length; i++) {\n",
    "          var imageUrl = imageUrls[i];\n",
    "          var info = imageInfos[i];\n",
    "          var fullImageUrl = fullImageUrls[i];\n",
    "\n",
    "          var linkElement = document.createElement(\"a\");\n",
    "          linkElement.href = fullImageUrl;\n",
    "          linkElement.target = \"_blank\"; // Open in a new tab\n",
    "\n",
    "          var imgElement = document.createElement(\"img\");\n",
    "          imgElement.src = imageUrl;\n",
    "          imgElement.title = info; // Show the info as tooltip on mouseover\n",
    "\n",
    "          linkElement.appendChild(imgElement);\n",
    "          imageContainer.appendChild(linkElement);\n",
    "        }\n",
    "      </script>\n",
    "    </body>\n",
    "    </html>\n",
    "    \"\"\"\n",
    "\n",
    "    if not os.path.exists(csv_result):\n",
    "        print('No detection on the data set, the HTML file has not been created.')\n",
    "        print('You do not need to continue.')\n",
    "    else:\n",
    "        df = pd.read_csv(csv_result, sep=';')\n",
    "        \n",
    "        # Optional sorting based on the specified column\n",
    "        if sort_by is not None and sort_by in df.columns:\n",
    "            df = df.sort_values(by=sort_by)\n",
    "\n",
    "        # Extract URLs and infos\n",
    "        image_urls = df[\"Url_Detection\"].tolist()\n",
    "        image_infos = df[\"Image_Path\"].tolist()\n",
    "        full_image_urls = df[\"Url_Image\"].tolist()\n",
    "\n",
    "        # Convert lists to JSON arrays for JavaScript\n",
    "        image_urls_str = json.dumps(image_urls)[1:-1]  # Remove outer brackets\n",
    "        image_infos_str = json.dumps([os.path.basename(url) for url in image_infos])\n",
    "        full_image_urls_str = json.dumps(full_image_urls)[1:-1]\n",
    "\n",
    "        # Replace the position markers in the HTML template with the actual data\n",
    "        html_content_with_mouseover = html_content.replace(\"{{image_urls}}\", image_urls_str).replace(\"{{image_infos}}\", image_infos_str).replace(\"{{full_image_urls}}\", full_image_urls_str)\n",
    "        html_content_without_mouseover = html_content.replace(\"{{image_urls}}\", image_urls_str).replace(\"{{image_infos}}\", '[\"\"]' * len(image_urls)).replace(\"{{full_image_urls}}\", full_image_urls_str)\n",
    "\n",
    "        # Writing HTML content to files\n",
    "        output_html_path_with_mouseover = os.path.join(results_path, 'results', dataset_name + '_' + (sort_by if sort_by else 'default') + '_with_mouseover.html')\n",
    "        with open(output_html_path_with_mouseover, \"w\") as file:\n",
    "            file.write(html_content_with_mouseover)\n",
    "        print(f\"The file {output_html_path_with_mouseover} has been generated with mouseover tooltips.\")\n",
    "\n",
    "        output_html_path_without_mouseover = os.path.join(results_path, 'results', dataset_name + '_' + (sort_by if sort_by else 'default') + '_without_mouseover.html')\n",
    "        with open(output_html_path_without_mouseover, \"w\") as file:\n",
    "            file.write(html_content_without_mouseover)\n",
    "        print(f\"The file {output_html_path_without_mouseover} has been generated without mouseover tooltips.\")\n"
   ]
  },
  {
   "cell_type": "code",
   "execution_count": null,
   "id": "6f89d496-4e84-4761-9e50-6bc9e34117e2",
   "metadata": {
    "tags": []
   },
   "outputs": [],
   "source": [
    "\n",
    "generate_html_with_and_without_mouseover(dataset_path, yolo_model_folder, sort_by='Image_Path')"
   ]
  },
  {
   "cell_type": "code",
   "execution_count": null,
   "id": "69446843-f3b6-4603-889a-fa7ec50faafc",
   "metadata": {
    "editable": true,
    "slideshow": {
     "slide_type": ""
    },
    "tags": []
   },
   "outputs": [],
   "source": []
  }
 ],
 "metadata": {
  "kernelspec": {
   "display_name": "Python 2.7 (env_Python27)",
   "language": "python",
   "name": "env_python27"
  },
  "language_info": {
   "codemirror_mode": {
    "name": "ipython",
    "version": 3
   },
   "file_extension": ".py",
   "mimetype": "text/x-python",
   "name": "python",
   "nbconvert_exporter": "python",
   "pygments_lexer": "ipython3",
   "version": "3.12.7"
  },
  "toc-autonumbering": true,
  "toc-showmarkdowntxt": false,
  "toc-showtags": false
 },
 "nbformat": 4,
 "nbformat_minor": 5
}
